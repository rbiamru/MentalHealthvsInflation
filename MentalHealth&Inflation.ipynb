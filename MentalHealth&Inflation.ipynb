{
  "nbformat": 4,
  "nbformat_minor": 0,
  "metadata": {
    "colab": {
      "provenance": [],
      "collapsed_sections": [
        "FwafmU-M9QPo",
        "scoSv4_KEz0-",
        "rUJ7Hxv10U8m"
      ],
      "include_colab_link": true
    },
    "kernelspec": {
      "name": "python3",
      "display_name": "Python 3"
    },
    "language_info": {
      "name": "python"
    }
  },
  "cells": [
    {
      "cell_type": "markdown",
      "metadata": {
        "id": "view-in-github",
        "colab_type": "text"
      },
      "source": [
        "<a href=\"https://colab.research.google.com/github/rbiamru/MentalHealthvsInflation/blob/main/MentalHealth%26Inflation.ipynb\" target=\"_parent\"><img src=\"https://colab.research.google.com/assets/colab-badge.svg\" alt=\"Open In Colab\"/></a>"
      ]
    },
    {
      "cell_type": "markdown",
      "source": [
        "# Importing Data"
      ],
      "metadata": {
        "id": "s7wLvjJtyPYQ"
      }
    },
    {
      "cell_type": "code",
      "execution_count": 2,
      "metadata": {
        "colab": {
          "base_uri": "https://localhost:8080/"
        },
        "collapsed": true,
        "id": "CTba4WJojgRn",
        "outputId": "5fff6e69-ffe1-4ee8-ecae-208f5d7b9a54"
      },
      "outputs": [
        {
          "output_type": "stream",
          "name": "stdout",
          "text": [
            "Requirement already satisfied: kaggle in /usr/local/lib/python3.10/dist-packages (1.6.17)\n",
            "Requirement already satisfied: six>=1.10 in /usr/local/lib/python3.10/dist-packages (from kaggle) (1.17.0)\n",
            "Requirement already satisfied: certifi>=2023.7.22 in /usr/local/lib/python3.10/dist-packages (from kaggle) (2024.12.14)\n",
            "Requirement already satisfied: python-dateutil in /usr/local/lib/python3.10/dist-packages (from kaggle) (2.8.2)\n",
            "Requirement already satisfied: requests in /usr/local/lib/python3.10/dist-packages (from kaggle) (2.32.3)\n",
            "Requirement already satisfied: tqdm in /usr/local/lib/python3.10/dist-packages (from kaggle) (4.67.1)\n",
            "Requirement already satisfied: python-slugify in /usr/local/lib/python3.10/dist-packages (from kaggle) (8.0.4)\n",
            "Requirement already satisfied: urllib3 in /usr/local/lib/python3.10/dist-packages (from kaggle) (2.2.3)\n",
            "Requirement already satisfied: bleach in /usr/local/lib/python3.10/dist-packages (from kaggle) (6.2.0)\n",
            "Requirement already satisfied: webencodings in /usr/local/lib/python3.10/dist-packages (from bleach->kaggle) (0.5.1)\n",
            "Requirement already satisfied: text-unidecode>=1.3 in /usr/local/lib/python3.10/dist-packages (from python-slugify->kaggle) (1.3)\n",
            "Requirement already satisfied: charset-normalizer<4,>=2 in /usr/local/lib/python3.10/dist-packages (from requests->kaggle) (3.4.0)\n",
            "Requirement already satisfied: idna<4,>=2.5 in /usr/local/lib/python3.10/dist-packages (from requests->kaggle) (3.10)\n",
            "Dataset URL: https://www.kaggle.com/datasets/sazidthe1/global-inflation-data\n",
            "License(s): other\n",
            "global-inflation-data.zip: Skipping, found more recently modified local copy (use --force to force download)\n",
            "Archive:  global-inflation-data.zip\n",
            "  inflating: global_inflation_data.csv  \n"
          ]
        }
      ],
      "source": [
        "#Installing Kaggle -> datasets, notebooks, community; https://www.kaggle.com/\n",
        "#the datasets can be dowloaded in .csv format\n",
        "\n",
        "!pip install kaggle\n",
        "\n",
        "#link to the dataset https://www.kaggle.com/datasets/sazidthe1/global-inflation-data\n",
        "#to refer to dataset you need to copy username/dataset_name from the URL\n",
        "!kaggle datasets download -d sazidthe1/global-inflation-data\n",
        "\n",
        "#unzips the dataset\n",
        "!unzip global-inflation-data.zip\n",
        "#deletes the initial zip file to save the space\n",
        "!rm global-inflation-data.zip"
      ]
    },
    {
      "cell_type": "code",
      "source": [
        "#now, please try to install second data set from the link below:\n",
        "\n",
        "#https://www.kaggle.com/datasets/programmerrdai/mental-health-dataset\n",
        "\n",
        "!kaggle datasets download -d programmerrdai/mental-health-dataset\n",
        "\n",
        "#unzips the dataset\n",
        "!unzip mental-health-dataset.zip\n",
        "#deletes the initial zip file to save the space\n",
        "!rm mental-health-dataset.zip"
      ],
      "metadata": {
        "collapsed": true,
        "id": "Xxl9SWWQufRU",
        "colab": {
          "base_uri": "https://localhost:8080/"
        },
        "outputId": "5890b481-ac7d-4f61-b56b-489e512417b4"
      },
      "execution_count": 3,
      "outputs": [
        {
          "output_type": "stream",
          "name": "stdout",
          "text": [
            "Dataset URL: https://www.kaggle.com/datasets/programmerrdai/mental-health-dataset\n",
            "License(s): CC0-1.0\n",
            "Downloading mental-health-dataset.zip to /content\n",
            "  0% 0.00/1.59M [00:00<?, ?B/s]\n",
            "100% 1.59M/1.59M [00:00<00:00, 136MB/s]\n",
            "Archive:  mental-health-dataset.zip\n",
            "  inflating: mental-and-substance-use-as-share-of-disease.csv  \n",
            "  inflating: prevalence-by-mental-and-substance-use-disorder.csv  \n",
            "  inflating: prevalence-of-depression-males-vs-females.csv  \n",
            "  inflating: share-with-depression.csv  \n",
            "  inflating: share-with-mental-and-substance-disorders.csv  \n",
            "  inflating: share-with-mental-or-substance-disorders-by-sex.csv  \n"
          ]
        }
      ]
    },
    {
      "cell_type": "markdown",
      "source": [
        "# Data Cleaning, part 1"
      ],
      "metadata": {
        "id": "1BEleCo4yeoF"
      }
    },
    {
      "cell_type": "code",
      "source": [
        "import pandas as pd\n",
        "\n",
        "# Load datasets\n",
        "inflation_data = pd.read_csv('global_inflation_data.csv')\n",
        "mental_health_data = pd.read_csv('mental-and-substance-use-as-share-of-disease.csv')\n",
        "\n",
        "# Preview datasets\n",
        "print(inflation_data.head())\n",
        "# print(mental_health_data.head())\n"
      ],
      "metadata": {
        "id": "N49OvB6dlry4",
        "colab": {
          "base_uri": "https://localhost:8080/"
        },
        "outputId": "209d752e-0bf8-4614-c353-00ea0dd0f0cf"
      },
      "execution_count": 16,
      "outputs": [
        {
          "output_type": "stream",
          "name": "stdout",
          "text": [
            "  country_name                                   indicator_name  1980  1981  \\\n",
            "0  Afghanistan  Annual average inflation (consumer prices) rate  13.4  22.2   \n",
            "1      Albania  Annual average inflation (consumer prices) rate   NaN   NaN   \n",
            "2      Algeria  Annual average inflation (consumer prices) rate   9.7  14.6   \n",
            "3      Andorra  Annual average inflation (consumer prices) rate   NaN   NaN   \n",
            "4       Angola  Annual average inflation (consumer prices) rate  46.7   1.4   \n",
            "\n",
            "   1982  1983  1984  1985  1986  1987  ...  2015   2016   2017   2018  2019  \\\n",
            "0  18.2  15.9  20.4   8.7  -2.1  18.4  ... -0.66   4.38   4.98   0.63   2.3   \n",
            "1   NaN   NaN   NaN   NaN   NaN   NaN  ...  1.90   1.30   2.00   2.00   1.4   \n",
            "2   6.6   7.8   6.3  10.4  14.0   5.9  ...  4.80   6.40   5.60   4.30   2.0   \n",
            "3   NaN   NaN   NaN   NaN   NaN   NaN  ... -1.10  -0.40   2.60   1.00   0.5   \n",
            "4   1.8   1.8   1.8   1.8   1.8   1.8  ...  9.20  30.70  29.80  19.60  17.1   \n",
            "\n",
            "    2020   2021   2022  2023  2024  \n",
            "0   5.44   5.06  13.71   9.1   NaN  \n",
            "1   1.60   2.00   6.70   4.8   4.0  \n",
            "2   2.40   7.20   9.30   9.0   6.8  \n",
            "3   0.10   1.70   6.20   5.2   3.5  \n",
            "4  22.30  25.80  21.40  13.1  22.3  \n",
            "\n",
            "[5 rows x 47 columns]\n"
          ]
        }
      ]
    },
    {
      "cell_type": "code",
      "source": [
        "import pandas as pd\n",
        "\n",
        "# Load datasets\n",
        "inflation_data = pd.read_csv('global_inflation_data.csv')\n",
        "mental_health_data = pd.read_csv('mental-and-substance-use-as-share-of-disease.csv')\n",
        "\n",
        "# Rename columns for consistency\n",
        "# Make sure 'Country Name' is the actual column name in inflation_data\n",
        "# inflation_data.rename(columns={'country_name': 'Country'}, inplace=True)\n",
        "# Correct the column name to 'year'\n",
        "inflation_data.rename(columns={'year': 'Year'}, inplace=True)\n",
        "mental_health_data.rename(columns={'Entity': 'Country'}, inplace=True)\n",
        "\n",
        "# --- Extract year from column names in inflation_data ---\n",
        "# 1. Get the year columns (all columns except 'country_name')\n",
        "year_cols = inflation_data.columns[2:]  # Assuming 'country_name' is the first column\n",
        "\n",
        "# 2. Extract the year from each column name\n",
        "years = [int(col) for col in year_cols]\n",
        "\n",
        "# 3. Reshape the inflation data using melt\n",
        "inflation_data = pd.melt(inflation_data, id_vars=['country_name'], value_vars=year_cols,\n",
        "                         var_name='Year', value_name='Inflation Rate')\n",
        "\n",
        "# 4. Rename 'country_name' to 'Country' for consistency\n",
        "inflation_data.rename(columns={'country_name': 'Country'}, inplace=True)\n",
        "\n",
        "# --- Now you have a 'Year' column in inflation_data ---\n",
        "\n",
        "# Convert 'Year' to integer in both DataFrames\n",
        "inflation_data['Year'] = inflation_data['Year'].astype(int)\n",
        "mental_health_data['Year'] = pd.to_numeric(mental_health_data['Year'], errors='coerce').astype('Int64')\n",
        "\n",
        "\n",
        "# Merge the DataFrames on 'Country' and 'Year'\n",
        "merged_data = pd.merge(inflation_data, mental_health_data, on=['Country', 'Year'], how='inner')\n",
        "\n",
        "# Display the first few rows of the merged DataFrame\n",
        "print(merged_data.head())"
      ],
      "metadata": {
        "colab": {
          "base_uri": "https://localhost:8080/"
        },
        "id": "oerDH_Q9XV4a",
        "outputId": "9d9f6085-36d7-474f-af3f-1fa8547f2ad5"
      },
      "execution_count": 22,
      "outputs": [
        {
          "output_type": "stream",
          "name": "stdout",
          "text": [
            "       Country  Year  Inflation Rate Code  \\\n",
            "0  Afghanistan  1990            47.4  AFG   \n",
            "1      Albania  1990            -0.2  ALB   \n",
            "2      Algeria  1990             9.3  DZA   \n",
            "3      Andorra  1990             NaN  AND   \n",
            "4       Angola  1990             1.8  AGO   \n",
            "\n",
            "   DALYs (Disability-Adjusted Life Years) - Mental disorders - Sex: Both - Age: All Ages (Percent)  \n",
            "0                                           1.696670                                                \n",
            "1                                           4.340942                                                \n",
            "2                                           4.346285                                                \n",
            "3                                           9.629760                                                \n",
            "4                                           1.303001                                                \n"
          ]
        }
      ]
    },
    {
      "cell_type": "code",
      "source": [
        "# Example: Drop rows with missing values\n",
        "merged_data.dropna(inplace=True)"
      ],
      "metadata": {
        "collapsed": true,
        "id": "4sLXn7Zm2Mtt"
      },
      "execution_count": 23,
      "outputs": []
    },
    {
      "cell_type": "code",
      "source": [
        "from sklearn.linear_model import LinearRegression\n",
        "X = merged_data[['Inflation Rate']]\n",
        "y = merged_data['DALYs (Disability-Adjusted Life Years) - Mental disorders - Sex: Both - Age: All Ages (Percent)']\n",
        "model = LinearRegression().fit(X, y)\n",
        "print(f\"Coefficient: {model.coef_[0]}\")"
      ],
      "metadata": {
        "colab": {
          "base_uri": "https://localhost:8080/"
        },
        "collapsed": true,
        "id": "y0iOJU0vlRfp",
        "outputId": "018f3183-1522-4daa-d016-fa4963e0d9e9"
      },
      "execution_count": 28,
      "outputs": [
        {
          "output_type": "stream",
          "name": "stdout",
          "text": [
            "Coefficient: -1.4829334743339999e-05\n"
          ]
        }
      ]
    },
    {
      "cell_type": "code",
      "source": [
        "import seaborn as sns\n",
        "import matplotlib.pyplot as plt\n",
        "# Use the correct column name 'Inflation Rate' for x\n",
        "sns.scatterplot(x='Inflation Rate', y='DALYs (Disability-Adjusted Life Years) - Mental disorders - Sex: Both - Age: All Ages (Percent)', data=merged_data)\n",
        "plt.show()"
      ],
      "metadata": {
        "colab": {
          "base_uri": "https://localhost:8080/",
          "height": 449
        },
        "collapsed": true,
        "id": "j0qYMe_KyycB",
        "outputId": "50db13dc-e58a-474d-88cf-3dfd0b126b30"
      },
      "execution_count": 31,
      "outputs": [
        {
          "output_type": "display_data",
          "data": {
            "text/plain": [
              "<Figure size 640x480 with 1 Axes>"
            ],
            "image/png": "[encoded data removed]"
          },
          "metadata": {}
        }
      ]
    }
  ]
}